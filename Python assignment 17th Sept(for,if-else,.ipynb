{
 "cells": [
  {
   "cell_type": "markdown",
   "id": "491d2805-d3ce-4ebd-a647-5b6f738a4830",
   "metadata": {},
   "source": [
    "For Loop :-\n"
   ]
  },
  {
   "cell_type": "code",
   "execution_count": 1,
   "id": "e6533d85-2bbb-437e-8739-efb89a2bc439",
   "metadata": {},
   "outputs": [
    {
     "name": "stdout",
     "output_type": "stream",
     "text": [
      "1\n",
      "2\n",
      "3\n",
      "4\n",
      "5\n",
      "6\n",
      "7\n",
      "8\n",
      "9\n",
      "10\n"
     ]
    }
   ],
   "source": [
    "# Write a Python program to print numbers from 1 to 10 using a for loop.\n",
    "\n",
    "for i in range(1,11):\n",
    "    print(i)"
   ]
  },
  {
   "cell_type": "code",
   "execution_count": 2,
   "id": "11ef8bb2-0b76-48ea-9e5e-cd70be466307",
   "metadata": {},
   "outputs": [
    {
     "data": {
      "text/plain": [
       "2"
      ]
     },
     "execution_count": 2,
     "metadata": {},
     "output_type": "execute_result"
    }
   ],
   "source": [
    "# 2# .Explain the difference between a for loop and a while loop in Python.\n",
    "#Ans-We have know start and end point the use for loop other wise use while loop and other differenece is that \n",
    "#   in for loop we declare condition in start time but while loop not.\n"
   ]
  },
  {
   "cell_type": "code",
   "execution_count": 3,
   "id": "5f8a7c69-d3b1-4407-844b-cee087c4b5c5",
   "metadata": {},
   "outputs": [
    {
     "data": {
      "text/plain": [
       "6105"
      ]
     },
     "execution_count": 3,
     "metadata": {},
     "output_type": "execute_result"
    }
   ],
   "source": [
    "#3. Write a Python program to calculate the sum of all numbers from 1 to 100 using a for loop.\n",
    "l=[]\n",
    "for i in range(1,111):\n",
    "    l.append(i)\n",
    "sum(l)"
   ]
  },
  {
   "cell_type": "code",
   "execution_count": 4,
   "id": "3f68aeff-4e55-4b85-98c2-ca6e010074e9",
   "metadata": {},
   "outputs": [
    {
     "name": "stdout",
     "output_type": "stream",
     "text": [
      "1\n",
      "2\n",
      "3\n",
      "4\n",
      "5\n",
      "56\n"
     ]
    }
   ],
   "source": [
    "#4. How do you iterate through a list using a for loop in Python?\n",
    "# we define list and use for loop for itereate them\n",
    "l=[1,2,3,4,5,56]\n",
    "for i in l:\n",
    "    print(i)"
   ]
  },
  {
   "cell_type": "code",
   "execution_count": 5,
   "id": "1590b8f9-08ab-4320-8b09-33e95a6ab6d3",
   "metadata": {},
   "outputs": [
    {
     "data": {
      "text/plain": [
       "6720"
      ]
     },
     "execution_count": 5,
     "metadata": {},
     "output_type": "execute_result"
    }
   ],
   "source": [
    "# 5.Write a Python program to find the product of all elements in a list using a for loop.\n",
    "sum=1\n",
    "for i in l:\n",
    "    sum=sum*i\n",
    "sum\n"
   ]
  },
  {
   "cell_type": "code",
   "execution_count": 6,
   "id": "08f9c90e-04ef-4d4d-a056-3d9dce043c00",
   "metadata": {},
   "outputs": [
    {
     "name": "stdout",
     "output_type": "stream",
     "text": [
      "2\n",
      "4\n",
      "6\n",
      "8\n",
      "10\n",
      "12\n",
      "14\n",
      "16\n",
      "18\n",
      "20\n"
     ]
    }
   ],
   "source": [
    "# 6.Create a Python program that prints all even numbers from 1 to 20 using a for loop.\n",
    "for i in range(1,21):\n",
    "    if i%2==0:\n",
    "        print(i)"
   ]
  },
  {
   "cell_type": "code",
   "execution_count": 10,
   "id": "b1ff4d63-6e3d-4b82-b5c4-e128519e0b46",
   "metadata": {},
   "outputs": [
    {
     "name": "stdin",
     "output_type": "stream",
     "text": [
      "Enter the number 5\n"
     ]
    },
    {
     "name": "stdout",
     "output_type": "stream",
     "text": [
      "120\n"
     ]
    }
   ],
   "source": [
    "# 7. Write a Python program that calculates the factorial of a number using a for loop.\n",
    "f=int(input(\"Enter the number\"))\n",
    "p=1\n",
    "for i in range(1,f+1):\n",
    "            p=p*i\n",
    "print(p)"
   ]
  },
  {
   "cell_type": "code",
   "execution_count": 9,
   "id": "d206b5c6-f8f6-4890-a025-8ce0f9e69e87",
   "metadata": {},
   "outputs": [
    {
     "name": "stdin",
     "output_type": "stream",
     "text": [
      "Enter the string aasasa\n"
     ]
    },
    {
     "name": "stdout",
     "output_type": "stream",
     "text": [
      "a\n",
      "a\n",
      "s\n",
      "a\n",
      "s\n",
      "a\n"
     ]
    }
   ],
   "source": [
    "# 8. How can you iterate through the characters of a string using a for loop in Python?\n",
    "# first creat estring and then use for loop\n",
    "s=input(\"Enter the string\")\n",
    "for i in s:\n",
    "    print(i)"
   ]
  },
  {
   "cell_type": "code",
   "execution_count": 16,
   "id": "ba2972dd-fffa-489e-bdcf-90bbaff4e78c",
   "metadata": {},
   "outputs": [
    {
     "name": "stdout",
     "output_type": "stream",
     "text": [
      "5\n"
     ]
    }
   ],
   "source": [
    "# 9. Write a Python program to find the largest number in a list using a for loop.\n",
    "l=[1,2,1,2,1,5,1,2]\n",
    "lag=1\n",
    "for i in l:\n",
    "    if i>lag:\n",
    "        lag=i\n",
    "print(lag)"
   ]
  },
  {
   "cell_type": "code",
   "execution_count": 20,
   "id": "292c38d0-0850-4397-bb69-4994c700a121",
   "metadata": {},
   "outputs": [
    {
     "name": "stdin",
     "output_type": "stream",
     "text": [
      "Enter the number 15\n"
     ]
    },
    {
     "name": "stdout",
     "output_type": "stream",
     "text": [
      "0\n",
      "1\n",
      "1\n",
      "2\n",
      "3\n",
      "5\n",
      "8\n",
      "13\n",
      "21\n",
      "34\n",
      "55\n",
      "89\n",
      "144\n",
      "233\n",
      "377\n"
     ]
    }
   ],
   "source": [
    "# 10.Create a Python program that prints the Fibonacci sequence up to a specified limit using a for loop.\n",
    "enter=int(input(\"Enter the number\"))\n",
    "n,n1=0,1\n",
    "for i in range(enter):\n",
    "    nth=n+n1\n",
    "    print(n)\n",
    "    nth,n,n1=n+n1,n1,nth\n",
    "    "
   ]
  },
  {
   "cell_type": "code",
   "execution_count": 38,
   "id": "5b30401c-17ed-4144-bc9c-55967b0c9a55",
   "metadata": {},
   "outputs": [
    {
     "name": "stdin",
     "output_type": "stream",
     "text": [
      "Enter the name Abhishek\n"
     ]
    },
    {
     "name": "stdout",
     "output_type": "stream",
     "text": [
      "3\n"
     ]
    }
   ],
   "source": [
    "#11. Write a Python program to count the number of vowels in a given string using a for loop.\n",
    "l=['a','e','i','o','u']\n",
    "e=input(\"Enter the name\")\n",
    "e1=e.lower()\n",
    "su=0\n",
    "for i in e1:\n",
    "    if i in l:\n",
    "        su=su+1\n",
    "print(su)"
   ]
  },
  {
   "cell_type": "code",
   "execution_count": 40,
   "id": "79af21f7-ef53-4a97-8d27-1e12659251f8",
   "metadata": {},
   "outputs": [
    {
     "name": "stdin",
     "output_type": "stream",
     "text": [
      "Enter the table number 5\n"
     ]
    },
    {
     "name": "stdout",
     "output_type": "stream",
     "text": [
      "5 * 1 = 5\n",
      "5 * 2 = 10\n",
      "5 * 3 = 15\n",
      "5 * 4 = 20\n",
      "5 * 5 = 25\n",
      "5 * 6 = 30\n",
      "5 * 7 = 35\n",
      "5 * 8 = 40\n",
      "5 * 9 = 45\n",
      "5 * 10 = 50\n"
     ]
    }
   ],
   "source": [
    "# 12.Create a Python program that generates a multiplication table for a given number using a for loop.\n",
    "t=int(input(\"Enter the table number\"))\n",
    "for i in range(1,11):\n",
    "    print(t,\"*\",i,\"=\",t*i)"
   ]
  },
  {
   "cell_type": "code",
   "execution_count": 42,
   "id": "ac24ba3a-e9e6-49c3-a1a6-21c325e0f6fa",
   "metadata": {},
   "outputs": [
    {
     "name": "stdout",
     "output_type": "stream",
     "text": [
      "5\n",
      "4\n",
      "3\n",
      "2\n",
      "1\n"
     ]
    }
   ],
   "source": [
    "# 13.Write a Python program to reverse a list using a for loop.\n",
    "l=[1,2,3,4,5]\n",
    "for i in range(1,len(l)+1):\n",
    "    print(l[-i])"
   ]
  },
  {
   "cell_type": "code",
   "execution_count": 43,
   "id": "6dc471e7-fbd2-4ed3-aa80-10891efd4f4f",
   "metadata": {},
   "outputs": [
    {
     "name": "stdout",
     "output_type": "stream",
     "text": [
      "1\n",
      "2\n",
      "4\n"
     ]
    }
   ],
   "source": [
    "# 14. Write a Python program to find the common elements between two lists using a for loop.\n",
    "l=[1,2,3,4,5]\n",
    "l1=[1,2,4,6,7]\n",
    "for i in l:\n",
    "    if i in l1:\n",
    "        print(i)"
   ]
  },
  {
   "cell_type": "code",
   "execution_count": 55,
   "id": "2698413b-d2d9-455a-8ce7-b221b2cbf607",
   "metadata": {},
   "outputs": [
    {
     "name": "stdout",
     "output_type": "stream",
     "text": [
      "(1, 'Abhishek')\n",
      "(2, 'Kapil')\n",
      "(3, 'Sachin')\n",
      "(4, 'Aman')\n"
     ]
    }
   ],
   "source": [
    "#15 .Explain how to use a for loop to iterate through the keys and values of a dictionary in Python.\n",
    "d={1:\"Abhishek\",2:\"Kapil\",3:\"Sachin\",4:\"Aman\"}\n",
    "for i in d.items():\n",
    "    print(i)"
   ]
  },
  {
   "cell_type": "code",
   "execution_count": 4,
   "id": "f8ab6987-f249-4343-8137-b7d1b77c0b05",
   "metadata": {},
   "outputs": [
    {
     "name": "stdin",
     "output_type": "stream",
     "text": [
      "Enter the value 10\n",
      "Enter the value2 20\n"
     ]
    },
    {
     "name": "stdout",
     "output_type": "stream",
     "text": [
      "5\n"
     ]
    }
   ],
   "source": [
    "# 16.Write a Python program to find the GCD (Greatest Common Divisor) of two numbers using a for loop.\n",
    "g=int(input(\"Enter the value\"))\n",
    "g1=int(input(\"Enter the value2\"))\n",
    "l=[]\n",
    "l1=[]\n",
    "m=[]\n",
    "for i in range(1,g):\n",
    "    if g%i==0:\n",
    "        l.append(i)\n",
    "for i in range(1,g1):\n",
    "    if g1%i==0:\n",
    "        l1.append(i)\n",
    "if len(l)<len(l1):\n",
    "    for i in l:\n",
    "        m.append(i)\n",
    "else:\n",
    "    for i in l1:\n",
    "        m.append(i)\n",
    "\n",
    "print(m[-1])"
   ]
  },
  {
   "cell_type": "code",
   "execution_count": 93,
   "id": "5b225fb3-daee-4e7b-b881-48ab3011ff7c",
   "metadata": {},
   "outputs": [
    {
     "name": "stdin",
     "output_type": "stream",
     "text": [
      "Enter the string aba\n"
     ]
    },
    {
     "name": "stdout",
     "output_type": "stream",
     "text": [
      "Yes It is palindrome\n"
     ]
    }
   ],
   "source": [
    "# 17.Create a Python program that checks if a string is a palindrome using a for loop.\n",
    "s=input(\"Enter the string\")\n",
    "if s==s[::-1]:\n",
    "    print(\"Yes It is palindrome\")\n",
    "else:\n",
    "    print(\"NO\")"
   ]
  },
  {
   "cell_type": "code",
   "execution_count": 102,
   "id": "0da7161c-0b2f-4763-95ca-c4e4844f7f91",
   "metadata": {},
   "outputs": [
    {
     "data": {
      "text/plain": [
       "[1, 2, 3, 4, 5, 6]"
      ]
     },
     "execution_count": 102,
     "metadata": {},
     "output_type": "execute_result"
    }
   ],
   "source": [
    "# 18.Write a Python program to remove duplicates from a list using a for loop.\n",
    "l=[1,2,3,4,5,6,6]\n",
    "l1=[]\n",
    "for i in l:\n",
    "    if i not in l1:\n",
    "        l1.append(i)\n",
    "l1"
   ]
  },
  {
   "cell_type": "code",
   "execution_count": 107,
   "id": "251336ac-167c-441d-9b0e-a33c3b118fe0",
   "metadata": {},
   "outputs": [
    {
     "name": "stdin",
     "output_type": "stream",
     "text": [
      "Enter the word my\n"
     ]
    },
    {
     "data": {
      "text/plain": [
       "2"
      ]
     },
     "execution_count": 107,
     "metadata": {},
     "output_type": "execute_result"
    }
   ],
   "source": [
    "# 19. Create a Python program that counts the number of words in a sentence using a for loop.\n",
    "s=\"my Abhishek is my name\"\n",
    "l=list(s.split())\n",
    "a=input(\"Enter the word\")\n",
    "s=0\n",
    "for i in l:\n",
    "    if i==a:\n",
    "        s=s+1\n",
    "s"
   ]
  },
  {
   "cell_type": "code",
   "execution_count": 117,
   "id": "063418c0-15a7-43e7-8261-61600f1c1ebd",
   "metadata": {},
   "outputs": [
    {
     "name": "stdout",
     "output_type": "stream",
     "text": [
      "625\n"
     ]
    }
   ],
   "source": [
    "#20. Write a Python program to find the sum of all odd numbers from 1 to 50 using a for loop.\n",
    "s=0\n",
    "for i in range(1,51):\n",
    "    if i%2!=0:\n",
    "        s=s+i\n",
    "print(s)\n"
   ]
  },
  {
   "cell_type": "code",
   "execution_count": 120,
   "id": "7eef8072-c66e-44e5-9343-2f16b5739f37",
   "metadata": {},
   "outputs": [
    {
     "name": "stdin",
     "output_type": "stream",
     "text": [
      "Enter the year 2001\n"
     ]
    },
    {
     "name": "stdout",
     "output_type": "stream",
     "text": [
      "Not leap year\n"
     ]
    }
   ],
   "source": [
    "# 21. Write a Python program that checks if a given year is a leap year using a for loop.\n",
    "i=int(input(\"Enter the year\"))\n",
    "if i%4==0:\n",
    "    print(\"Leap year\")\n",
    "else:\n",
    "    print(\"Not leap year\")"
   ]
  },
  {
   "cell_type": "code",
   "execution_count": 121,
   "id": "fe89332b-9cc0-4de4-9f71-a3e0002cae45",
   "metadata": {},
   "outputs": [
    {
     "name": "stdout",
     "output_type": "stream",
     "text": [
      "4\n"
     ]
    }
   ],
   "source": [
    "# 22.Create a Python program that calculates the square root of a number using a for loop.\n",
    "a=2\n",
    "print(a**a)"
   ]
  },
  {
   "cell_type": "code",
   "execution_count": 5,
   "id": "3dbaf1a1-a2e0-4901-b2e7-7018370eba1d",
   "metadata": {},
   "outputs": [
    {
     "name": "stdout",
     "output_type": "stream",
     "text": [
      "30\n",
      "30\n"
     ]
    }
   ],
   "source": [
    "# 23. Write a Python program to find the LCM (Least Common Multiple) of two numbers using a for loop.\n",
    "a=10\n",
    "b=15\n",
    "c=0\n",
    "if a<b:\n",
    "    c=a\n",
    "else:\n",
    "    c=b\n",
    "#print(c)\n",
    "while(True):\n",
    "    if c%a==0 and c%b==0:\n",
    "        print(c)\n",
    "        break\n",
    "    c=c+1\n",
    "print(c)"
   ]
  },
  {
   "cell_type": "markdown",
   "id": "ac3c8d33-c4d3-4761-83a7-a927aa8de872",
   "metadata": {},
   "source": [
    "# If else :\n"
   ]
  },
  {
   "cell_type": "code",
   "execution_count": 8,
   "id": "2f565719-d9d3-4e19-b8d1-c4e61af4a23a",
   "metadata": {},
   "outputs": [
    {
     "name": "stdin",
     "output_type": "stream",
     "text": [
      "Enter the numer -1\n"
     ]
    },
    {
     "name": "stdout",
     "output_type": "stream",
     "text": [
      "Negative\n"
     ]
    }
   ],
   "source": [
    "# 1.Write a Python program to check if a number is positive, negative, or zero using an if-else statement.\n",
    "n=int(input(\"Enter the numer\"))\n",
    "if n<0:\n",
    "    print(\"Negative\")\n",
    "else:\n",
    "    print(\"Positive\")"
   ]
  },
  {
   "cell_type": "code",
   "execution_count": 9,
   "id": "98ea8144-1f5b-4104-921f-4930dbdb60c0",
   "metadata": {},
   "outputs": [
    {
     "name": "stdin",
     "output_type": "stream",
     "text": [
      "Enter the numer 44\n"
     ]
    },
    {
     "name": "stdout",
     "output_type": "stream",
     "text": [
      "Even\n"
     ]
    }
   ],
   "source": [
    "#2.Create a Python program that checks if a given number is even or odd using an if-else statement.\n",
    "n=int(input(\"Enter the numer\"))\n",
    "if n%2==0:\n",
    "    print(\"Even\")\n",
    "else:\n",
    "    print(\"Number\")"
   ]
  },
  {
   "cell_type": "code",
   "execution_count": 14,
   "id": "eea4bfbe-e1e3-4880-a22e-7fead7c3b588",
   "metadata": {},
   "outputs": [
    {
     "name": "stdin",
     "output_type": "stream",
     "text": [
      "Enter the numer 21\n"
     ]
    },
    {
     "name": "stdout",
     "output_type": "stream",
     "text": [
      "in 3 table 21\n"
     ]
    }
   ],
   "source": [
    "# How can you use nested if-else statements in Python, and provide an example?\n",
    "# when we have multiple condition if and then agin if then use nested if\n",
    "n=int(input(\"Enter the numer\"))\n",
    "if n%2!=0:\n",
    "    if n%3==0:\n",
    "        print(\"in 3 table\",n)\n",
    "    else:\n",
    "        print(\"odd but not in 3\",n)\n",
    "else:\n",
    "    print(\"Even\")\n",
    "    "
   ]
  },
  {
   "cell_type": "code",
   "execution_count": 15,
   "id": "354f5fa2-8f28-4177-b896-e3bb9f5984dc",
   "metadata": {},
   "outputs": [
    {
     "name": "stdout",
     "output_type": "stream",
     "text": [
      "4\n"
     ]
    }
   ],
   "source": [
    "# Write a Python program to determine the largest of three numbers using if-else.\n",
    "a=2\n",
    "b=4\n",
    "c=1\n",
    "if a>b:\n",
    "    if a>c:\n",
    "        print(a)\n",
    "    else:\n",
    "        print(c)\n",
    "else:\n",
    "    if b>c:\n",
    "        print(b)\n",
    "    else:\n",
    "        print(c)"
   ]
  },
  {
   "cell_type": "code",
   "execution_count": 16,
   "id": "ee1cdb84-8775-4188-a57a-2aac2b77d191",
   "metadata": {},
   "outputs": [
    {
     "name": "stdout",
     "output_type": "stream",
     "text": [
      "5\n"
     ]
    }
   ],
   "source": [
    "#5.Write a Python program that calculates the absolute value of a number using if-else.\n",
    "a=-5\n",
    "if a<0:\n",
    "    print(-a)\n",
    "else:\n",
    "    print(a)"
   ]
  },
  {
   "cell_type": "code",
   "execution_count": 21,
   "id": "0db9f4d1-6c41-4b03-923c-25aa93cb6ca5",
   "metadata": {},
   "outputs": [
    {
     "name": "stdout",
     "output_type": "stream",
     "text": [
      "Vowels\n"
     ]
    }
   ],
   "source": [
    "#6.Create a Python program that checks if a given character is a vowel or consonant using if-else.\n",
    "a='o'\n",
    "if a=='a':\n",
    "    print(\"Vowel\")\n",
    "elif a==\"e\":\n",
    "    print(\"Vowels\")\n",
    "elif a=='i':\n",
    "    print(\"Vowel\")\n",
    "elif a==\"o\":\n",
    "    print(\"Vowels\")\n",
    "elif a=='u':\n",
    "    print(\"Vowel\")\n",
    "else:\n",
    "    print(\"Consonant\")\n"
   ]
  },
  {
   "cell_type": "code",
   "execution_count": 20,
   "id": "02f4dc38-060d-4682-a8eb-8783a16e4b16",
   "metadata": {},
   "outputs": [
    {
     "name": "stdin",
     "output_type": "stream",
     "text": [
      "Enter the age 18\n"
     ]
    },
    {
     "name": "stdout",
     "output_type": "stream",
     "text": [
      "You are eligible\n"
     ]
    }
   ],
   "source": [
    "#7.Write a Python program to determine if a user is eligible to vote based on their age using if-else.\n",
    "n=int(input(\"Enter the age\"))\n",
    "if n<18:\n",
    "    print(\"you are not eligivble for vote\")\n",
    "else:\n",
    "    print(\"You are eligible\")\n",
    "    "
   ]
  },
  {
   "cell_type": "code",
   "execution_count": 28,
   "id": "7db9883a-bc84-4fc7-804e-3559f1463be9",
   "metadata": {},
   "outputs": [
    {
     "name": "stdout",
     "output_type": "stream",
     "text": [
      "1 for metal and 2 for wood items\n"
     ]
    },
    {
     "name": "stdin",
     "output_type": "stream",
     "text": [
      "material type 1\n"
     ]
    },
    {
     "name": "stdout",
     "output_type": "stream",
     "text": [
      "Price is 10\n"
     ]
    },
    {
     "name": "stdin",
     "output_type": "stream",
     "text": [
      "Enter the qty 10\n"
     ]
    },
    {
     "name": "stdout",
     "output_type": "stream",
     "text": [
      "90.0\n"
     ]
    }
   ],
   "source": [
    "#8.Create a Python program that calculates the discount amount based on the purchase amount using if-else.\n",
    "print(\"1 for metal and 2 for wood items\")\n",
    "d=int(input(\"material type\"))\n",
    "if d==1:\n",
    "      print(\"Price is 10\")\n",
    "      qty=int(input(\"Enter the qty\"))\n",
    "      a=(qty*10)-(qty*10/100*10)\n",
    "      print(a)\n",
    "elif d==2:\n",
    "      print(\"price is 8\")\n",
    "      qty=int(input(\"Enter the qty\"))\n",
    "      a=(qty*10/100*10)-(qty*10)\n",
    "      print(a)\n",
    "\n",
    "              "
   ]
  },
  {
   "cell_type": "code",
   "execution_count": 31,
   "id": "2c499ca0-a710-4643-8a84-469267795d95",
   "metadata": {},
   "outputs": [
    {
     "name": "stdout",
     "output_type": "stream",
     "text": [
      "Enter the number in 1 to 100\n"
     ]
    },
    {
     "name": "stdin",
     "output_type": "stream",
     "text": [
      "enter the number 999\n"
     ]
    }
   ],
   "source": [
    "#9.Write a Python program to check if a number is within a specified range using if-else.\n",
    "print(\"Enter the number in 1 to 100\")\n",
    "n=int(input(\"enter the number\"))\n",
    "for i in range(111):\n",
    "    if n==i:\n",
    "        print(\"yes\")\n",
    "        break\n",
    "    "
   ]
  },
  {
   "cell_type": "code",
   "execution_count": 33,
   "id": "86fdb064-e544-4747-b0ac-08984423bc44",
   "metadata": {},
   "outputs": [
    {
     "name": "stdout",
     "output_type": "stream",
     "text": [
      " 90 above is A and 80 above B and 60 above C otherwise fail\n",
      "enter the number\n"
     ]
    },
    {
     "name": "stdin",
     "output_type": "stream",
     "text": [
      " 88\n"
     ]
    },
    {
     "name": "stdout",
     "output_type": "stream",
     "text": [
      "B\n"
     ]
    }
   ],
   "source": [
    "#10.Create a Python program that determines the grade of a student based on their score using if-else.\n",
    "print(\" 90 above is A and 80 above B and 60 above C otherwise fail\")\n",
    "print(\"enter the number\")\n",
    "a=int(input())\n",
    "if a>=90:\n",
    "    print(\"A\")\n",
    "elif a>=80 and a<90:\n",
    "    print(\"B\")\n",
    "elif a>=60 and a<80:\n",
    "    print(\"C\")\n",
    "else:\n",
    "    print(\"Fail\")\n",
    "    "
   ]
  },
  {
   "cell_type": "code",
   "execution_count": 43,
   "id": "83a27a14-a5ca-4d60-897b-e9cab4129ffb",
   "metadata": {},
   "outputs": [
    {
     "name": "stdin",
     "output_type": "stream",
     "text": [
      "Ente the string asd\n"
     ]
    },
    {
     "name": "stdout",
     "output_type": "stream",
     "text": [
      "NOt Empty\n"
     ]
    }
   ],
   "source": [
    "# 11.Write a Python program to check if a string is empty or not using if-else.\n",
    "s=input(\"Ente the string\")\n",
    "if len(s)==0:\n",
    "    print(\"Empty\")\n",
    "else:\n",
    "    print(\"NOt Empty\")\n"
   ]
  },
  {
   "cell_type": "markdown",
   "id": "55570a9e-d5b0-4aed-af9d-af0124930c36",
   "metadata": {},
   "source": [
    "# 12. Create a Python program that identifies the type of a triangle (e.g., equilateral, isosceles, or scalene) based on input values using if-else.\n",
    "print(\"ENter the side of triangle\")\n",
    "a=int(input())\n",
    "b=int(input())\n",
    "c=int(input())\n",
    "if a==b==c:\n",
    "    print(\"Equilateral Triangle\")\n",
    "elif a==b or b==c or c==a:\n",
    "    print(\"Isosceles\")\n",
    "else:\n",
    "    print(\"Scalene\")"
   ]
  },
  {
   "cell_type": "code",
   "execution_count": null,
   "id": "e273e69e-5f66-4a85-b034-81ea338ba03e",
   "metadata": {},
   "outputs": [],
   "source": [
    "#13. Write a Python program to determine the day of the week based on a user-provided number using if-else.\n",
    "y=int(input(\"Enter the year\"))\n",
    "if y==1:\n",
    "    pritn(\"Sunday\")\n",
    "elif y==2:\n",
    "    print(\"Monday\")\n",
    "elif y==3:\n",
    "    print(\"tuesday\")\n",
    "elif y==4:\n",
    "    print(\"Wednesday\")\n",
    "elif y==5:\n",
    "    print(\"Thursday\")\n",
    "elif y==6:\n",
    "    print(\"Friday\")\n",
    "elif y==7:\n",
    "    print(\"Saturday\")\n",
    "else:\n",
    "    print(\"Wrong input\")"
   ]
  },
  {
   "cell_type": "code",
   "execution_count": 49,
   "id": "54123b85-ceae-4e82-9315-1c81fc79020d",
   "metadata": {},
   "outputs": [
    {
     "name": "stdin",
     "output_type": "stream",
     "text": [
      "Enter the year 2000\n"
     ]
    },
    {
     "name": "stdout",
     "output_type": "stream",
     "text": [
      "Leap\n"
     ]
    }
   ],
   "source": [
    "# Create a Python program that checks if a given year is a leap year using both if-else and a function.\n",
    "def leap(a):\n",
    "    if a%4==0:\n",
    "        return 0\n",
    "    else:\n",
    "        return 1\n",
    "y=int(input(\"Enter the year\"))\n",
    "ye=leap(y)\n",
    "if ye==0:\n",
    "    print(\"Leap\")\n",
    "else:\n",
    "    print(\"Not leap\")\n",
    "        "
   ]
  },
  {
   "cell_type": "code",
   "execution_count": 2,
   "id": "f48401b6-7d7f-4f0d-9196-4c9ac5b9f314",
   "metadata": {},
   "outputs": [
    {
     "ename": "AssertionError",
     "evalue": "Enter tge 10",
     "output_type": "error",
     "traceback": [
      "\u001b[0;31m---------------------------------------------------------------------------\u001b[0m",
      "\u001b[0;31mAssertionError\u001b[0m                            Traceback (most recent call last)",
      "Cell \u001b[0;32mIn[2], line 6\u001b[0m\n\u001b[1;32m      4\u001b[0m a\u001b[38;5;241m=\u001b[39m\u001b[38;5;241m10\u001b[39m\n\u001b[1;32m      5\u001b[0m \u001b[38;5;28;01mif\u001b[39;00m a\u001b[38;5;241m%\u001b[39m\u001b[38;5;241m2\u001b[39m\u001b[38;5;241m==\u001b[39m\u001b[38;5;241m0\u001b[39m:\n\u001b[0;32m----> 6\u001b[0m     \u001b[38;5;28;01massert\u001b[39;00m a\u001b[38;5;241m<\u001b[39m\u001b[38;5;241m9\u001b[39m,\u001b[38;5;124m\"\u001b[39m\u001b[38;5;124mEnter tge 10\u001b[39m\u001b[38;5;124m\"\u001b[39m\n\u001b[1;32m      7\u001b[0m \u001b[38;5;28;01melse\u001b[39;00m:\n\u001b[1;32m      8\u001b[0m     \u001b[38;5;28mprint\u001b[39m(\u001b[38;5;124m\"\u001b[39m\u001b[38;5;124mEnter the even number\u001b[39m\u001b[38;5;124m\"\u001b[39m)\n",
      "\u001b[0;31mAssertionError\u001b[0m: Enter tge 10"
     ]
    }
   ],
   "source": [
    "# 15.How do you use the \"assert\" statement in Python to add debugging checks within if-else blocks?\n",
    "# The assertion error mean if the given condition is true then good other wise they raise the assertion error,\n",
    "# if we the give error name so difine it other wise they show only assertion\n",
    "a=10\n",
    "if a%2==0:\n",
    "    assert a<9,\"Enter tge 10'\n",
    "else:\n",
    "    print(\"Enter the even number\")\n"
   ]
  },
  {
   "cell_type": "code",
   "execution_count": 3,
   "id": "496ea30c-a15c-4f17-b51a-0e5100f6b5b1",
   "metadata": {},
   "outputs": [
    {
     "name": "stdin",
     "output_type": "stream",
     "text": [
      "Please enter a persons age. 35\n"
     ]
    },
    {
     "name": "stdout",
     "output_type": "stream",
     "text": [
      "The person is not an infant.\n",
      "The person is a child.\n",
      "The person is not a teenager.\n",
      "The person is an adult.\n"
     ]
    }
   ],
   "source": [
    "# 16. Create a Python program that determines the eligibility of a person for a senior citizen discount based on age using if-else.\n",
    "age = int(input('Please enter a persons age.'))\n",
    "if age <= 1: print('The person is an infant.')\n",
    "else: print('The person is not an infant.')\n",
    "if age > 1 and age > 13: print('The person is a child.')\n",
    "else: print ('The person is not an infant.')\n",
    "if age <= 13 and age > 20: print('The person is a teenager.')\n",
    "else: print ('The person is not a teenager.')\n",
    "if age >=20: print ('The person is an adult.')"
   ]
  },
  {
   "cell_type": "code",
   "execution_count": 8,
   "id": "4971bd06-423a-41f3-9dae-bf401f7e6bf8",
   "metadata": {},
   "outputs": [
    {
     "name": "stdin",
     "output_type": "stream",
     "text": [
      "Enter the value a\n"
     ]
    },
    {
     "name": "stdout",
     "output_type": "stream",
     "text": [
      "True\n"
     ]
    }
   ],
   "source": [
    "#17.Write a Python program to categorize a given character as uppercase, lowercase, or neither using if-else.\n",
    "a=ord(input(\"Enter the value\"))\n",
    "if a in range(65,91):\n",
    "    print(\"It ias capital letter\")\n",
    "elif :\n",
    "    print(\"It is small lettter\")"
   ]
  },
  {
   "cell_type": "code",
   "execution_count": 37,
   "id": "9be6be0e-c7fc-470b-9410-e13f1ad676b1",
   "metadata": {},
   "outputs": [
    {
     "name": "stdin",
     "output_type": "stream",
     "text": [
      "Ente the value of a 1\n",
      "Ente the value of b -3\n",
      "Ente the value of c -10\n"
     ]
    },
    {
     "name": "stdout",
     "output_type": "stream",
     "text": [
      "First value is 5.0 and second value is -3\n"
     ]
    }
   ],
   "source": [
    "### 18.Write a Python program to determine the roots of a quadratic equation using if-else.\n",
    "#-b+-root mai b2-4ac/2a\n",
    "a=int(input(\"Ente the value of a\"))\n",
    "b=int(input(\"Ente the value of b\"))\n",
    "c=int(input(\"Ente the value of c\"))\n",
    "r=(-b+((b**2-4*a*c)**0.5))/(2*a)\n",
    "r1=(-b-((b**2-4*a*c)**0.5))/(2*a)\n",
    "print(f\"First value is {r} and second value is {b}\")\n"
   ]
  },
  {
   "cell_type": "code",
   "execution_count": 39,
   "id": "3ed2cb7f-5ed5-4436-b3f6-939146fc4a8c",
   "metadata": {},
   "outputs": [
    {
     "name": "stdout",
     "output_type": "stream",
     "text": [
      "2000 is a leap year\n",
      "2016 is a leap year\n",
      "2100 is not a leap year\n"
     ]
    }
   ],
   "source": [
    "# 19.Create a Python program that checks if a given year is a century year or not using if-else.\n",
    "def print_leap_year(year):\n",
    "    \"\"\"\n",
    "    Print whether the given year is a leap year or not.\n",
    "    \"\"\"\n",
    "    if ((year % 4 == 0 and year % 100 != 0) or (year % 400 == 0)):\n",
    "        print(f\"{year} is a leap year\")\n",
    "    else:\n",
    "        print(f\"{year} is not a leap year\")\n",
    "\n",
    "print_leap_year(2000)  \n",
    "print_leap_year(2016)  \n",
    "print_leap_year(2100)  "
   ]
  },
  {
   "cell_type": "code",
   "execution_count": 40,
   "id": "5ae56915-35bb-4257-be96-661cd4a2ca5d",
   "metadata": {},
   "outputs": [
    {
     "name": "stdout",
     "output_type": "stream",
     "text": [
      "No\n"
     ]
    }
   ],
   "source": [
    "# Write a Python program to determine if a given number is a perfect square using if-else.\n",
    "import math\n",
    " \n",
    " \n",
    "def isPerfectSquare(x):\n",
    " \n",
    "    #if x >= 0,\n",
    "    if(x >= 0):\n",
    "        sr = int(math.sqrt(x))\n",
    "        # sqrt function returns floating value so we have to convert it into integer\n",
    "        #return boolean T/F\n",
    "        return ((sr*sr) == x)\n",
    "    return false\n",
    " \n",
    "# Driver code\n",
    " \n",
    " \n",
    "x = 2502\n",
    "if (isPerfectSquare(x)):\n",
    "    print(\"Yes\")\n",
    "else:\n",
    "    print(\"No\")"
   ]
  },
  {
   "cell_type": "code",
   "execution_count": 44,
   "id": "d1dbcf74-0235-4596-93bb-c2f3cbaefa2b",
   "metadata": {},
   "outputs": [],
   "source": [
    "#21 Explain the purpose of the \"continue\" and \"break\" statements within if-else loops.\n",
    "# continue use in for skip the value but not break the loop but break statement break down the loop\n",
    "for i in range(10):\n",
    "    if i<5:\n",
    "        break\n",
    "    print(i)"
   ]
  },
  {
   "cell_type": "code",
   "execution_count": 45,
   "id": "2bb48729-849a-453d-bea3-f45b66cbcd5e",
   "metadata": {},
   "outputs": [
    {
     "name": "stdin",
     "output_type": "stream",
     "text": [
      "Enter your height in meters:  165\n",
      "Enter your weight in kg:  75\n"
     ]
    },
    {
     "name": "stdout",
     "output_type": "stream",
     "text": [
      "Welcome to the BMI calculator.\n",
      "Your BMI is:  0.0\n",
      "You are underweight.\n"
     ]
    }
   ],
   "source": [
    "# Create a Python program that calculates the BMI (Body Mass Index) of a person based on their weight and height using if-else.\n",
    "def bodymassindex(height, weight):\n",
    "    return round((weight / height**2),2)\n",
    "\n",
    "\n",
    "h = float(input(\"Enter your height in meters: \"))\n",
    "w = float(input(\"Enter your weight in kg: \"))\n",
    "\n",
    "\n",
    "print(\"Welcome to the BMI calculator.\")\n",
    "\n",
    "bmi = bodymassindex(h, w)\n",
    "print(\"Your BMI is: \", bmi)\n",
    "\n",
    "\n",
    "if bmi <= 18.5:\n",
    "    print(\"You are underweight.\")\n",
    "elif 18.5 < bmi <= 24.9:\n",
    "    print(\"Your weight is normal.\")\n",
    "elif 25 < bmi <= 29.29:\n",
    "    print(\"You are overweight.\")\n",
    "else:\n",
    "    print(\"You are obese.\")\n"
   ]
  },
  {
   "cell_type": "code",
   "execution_count": 4,
   "id": "b61e4dcc-31dc-470a-a747-89393a9ef542",
   "metadata": {},
   "outputs": [
    {
     "name": "stdout",
     "output_type": "stream",
     "text": [
      "[2, 4, 6, 8]\n"
     ]
    }
   ],
   "source": [
    "# 23.How can you use the \"filter()\" function with if-else statements to filter elements from a list?\n",
    "l=[1,2,3,4,5,6,8]\n",
    "print(list(filter(lambda x:x%2==0,l)))\n"
   ]
  },
  {
   "cell_type": "code",
   "execution_count": 5,
   "id": "e79ee131-5271-4d62-81ac-d61594fd022a",
   "metadata": {},
   "outputs": [
    {
     "name": "stdout",
     "output_type": "stream",
     "text": [
      "[2, 4, 6, 8]\n"
     ]
    }
   ],
   "source": [
    "# 24.Write a Python program to determine if a given number is prime or not using if-else.\n",
    "l=[1,2,3,4,5,6,8]\n",
    "print(list(filter(lambda x:x%2==0,l)))\n"
   ]
  },
  {
   "cell_type": "markdown",
   "id": "f8e9cb8d-3f31-4faf-a6a7-c0663db79a21",
   "metadata": {},
   "source": [
    "# Map :-"
   ]
  },
  {
   "cell_type": "code",
   "execution_count": 10,
   "id": "1865fd30-6839-48d6-b729-2f3adf107082",
   "metadata": {},
   "outputs": [
    {
     "name": "stdout",
     "output_type": "stream",
     "text": [
      "[1, 4, 9, 16]\n"
     ]
    }
   ],
   "source": [
    "# 1.Explain the purpose of the `map()` function in Python and provide an example of how it can be used to apply a function to each element of an iterable.\n",
    "# Suppoe you are do operation each and every element then use to map sunction they take 1 function and reduce operation value\n",
    "def aa(a):\n",
    "    return a**2\n",
    "print(list(map(aa,[1,2,3,4])))"
   ]
  },
  {
   "cell_type": "code",
   "execution_count": 11,
   "id": "9bd4a595-3142-4b3b-8b03-bc4e0d929ef1",
   "metadata": {},
   "outputs": [
    {
     "name": "stdout",
     "output_type": "stream",
     "text": [
      "[1, 4, 9, 16]\n"
     ]
    }
   ],
   "source": [
    "# 2. Write a Python program that uses the `map()` function to square each element of a list of numbers.\n",
    "def aa(a):\n",
    "    return a**2\n",
    "print(list(map(aa,[1,2,3,4])))"
   ]
  },
  {
   "cell_type": "code",
   "execution_count": 13,
   "id": "8822ee84-dde2-4e7e-a09f-b600b956cc53",
   "metadata": {},
   "outputs": [
    {
     "name": "stdout",
     "output_type": "stream",
     "text": [
      "Hello\n"
     ]
    }
   ],
   "source": [
    "# 3. How does the `map()` function differ from a list comprehension in Python, and when would you choose one over the other?\n",
    "#ist comprehension returns a list, whereas the map function returns an object of Iterable. \n",
    "#List comprehension execution is faster than that of map function when the formula expression is huge and complex. \n",
    "#Map function is faster than list comprehension when the formula is already defined as a function earlier."
   ]
  },
  {
   "cell_type": "code",
   "execution_count": 16,
   "id": "97367dfd-e253-4907-aa46-30cc74846b25",
   "metadata": {},
   "outputs": [
    {
     "name": "stdout",
     "output_type": "stream",
     "text": [
      "['ABHISHEK']\n"
     ]
    }
   ],
   "source": [
    "# 4.Create a Python program that uses the `map()` function to convert a list of names to uppercase.\n",
    "a=\"AbHISHEK\"\n",
    "print(list(map(lambda a:a.upper(),a.split())))"
   ]
  },
  {
   "cell_type": "code",
   "execution_count": 18,
   "id": "1f07af5a-e09f-41cf-a776-853c315238d3",
   "metadata": {},
   "outputs": [
    {
     "name": "stdout",
     "output_type": "stream",
     "text": [
      "[8, 2, 2, 4]\n"
     ]
    }
   ],
   "source": [
    "# 5.Write a Python program that uses the `map()` function to calculate the length of each word in a list of strings.\n",
    "a=\"AbHISHEK is my name\"\n",
    "print(list(map(lambda a:len(a),a.split())))"
   ]
  },
  {
   "cell_type": "code",
   "execution_count": 34,
   "id": "0321e879-4f44-4498-a0c2-da904170e42e",
   "metadata": {},
   "outputs": [],
   "source": [
    "#6.How can you use the `map()` function to apply a custom function to elements of multiple lists simultaneously in Python?\n",
    "\"\"\"If you supply multiple iterables to map() ,\n",
    "then the transformation function must take as many arguments as iterables you pass in.\n",
    "Each iteration of map() will pass one value from each iterable as an argument to function .\n",
    "The iteration stops at the end of the shortest iterable.\"\"\""
   ]
  },
  {
   "cell_type": "code",
   "execution_count": 21,
   "id": "d5b670e0-89c4-4069-9dec-71ffc60bc6a2",
   "metadata": {},
   "outputs": [
    {
     "name": "stdout",
     "output_type": "stream",
     "text": [
      "[-17.22222222222222, -16.666666666666668, -16.11111111111111, -15.555555555555555, -15.0, -14.444444444444445, -13.333333333333334]\n"
     ]
    }
   ],
   "source": [
    "#7.Create a Python program that uses `map()` to convert a list of temperatures from Celsius to Fahrenheit.\n",
    "print(list(map(lambda x:(x-32)*5/9,l)))"
   ]
  },
  {
   "cell_type": "code",
   "execution_count": 28,
   "id": "64bb9009-7422-407d-94c3-44b32524eece",
   "metadata": {},
   "outputs": [
    {
     "name": "stdout",
     "output_type": "stream",
     "text": [
      "[1, 2, 3]\n"
     ]
    }
   ],
   "source": [
    "#8.Write a Python program that uses the `map()` function to round each element of a list of floating-point numbers to the \n",
    "#nearest integer.\n",
    "l=[1.2,2.3,3.6]\n",
    "print(list(map(lambda x: int(x),l)))"
   ]
  },
  {
   "cell_type": "markdown",
   "id": "470e8e04-8f22-4266-bf6f-2d91bf08e4fd",
   "metadata": {},
   "source": [
    "# Reduce :-\n"
   ]
  },
  {
   "cell_type": "code",
   "execution_count": 31,
   "id": "7ef5b26a-7af0-46ce-8d8d-1a5976d63981",
   "metadata": {},
   "outputs": [
    {
     "ename": "NameError",
     "evalue": "name 'reduce' is not defined",
     "output_type": "error",
     "traceback": [
      "\u001b[0;31m---------------------------------------------------------------------------\u001b[0m",
      "\u001b[0;31mNameError\u001b[0m                                 Traceback (most recent call last)",
      "Cell \u001b[0;32mIn[31], line 4\u001b[0m\n\u001b[1;32m      1\u001b[0m \u001b[38;5;66;03m# 1. What is the `reduce()` function in Python, and what module should you import to use it? Provide an example of its basic usage.\u001b[39;00m\n\u001b[1;32m      2\u001b[0m \u001b[38;5;66;03m# this functio are return only single value of the conditon\u001b[39;00m\n\u001b[1;32m      3\u001b[0m l\u001b[38;5;241m=\u001b[39m[\u001b[38;5;241m1\u001b[39m,\u001b[38;5;241m2\u001b[39m,\u001b[38;5;241m4\u001b[39m,\u001b[38;5;241m3\u001b[39m,\u001b[38;5;241m5\u001b[39m]\n\u001b[0;32m----> 4\u001b[0m \u001b[38;5;28mprint\u001b[39m(\u001b[43mreduce\u001b[49m(\u001b[38;5;28;01mlambda\u001b[39;00m x,y:x\u001b[38;5;241m+\u001b[39my,l))\n",
      "\u001b[0;31mNameError\u001b[0m: name 'reduce' is not defined"
     ]
    }
   ],
   "source": [
    "# 1. What is the `reduce()` function in Python, and what module should you import to use it? Provide an example of its basic usage.\n",
    "# this functio are return only single value of the conditon\n",
    "l=[1,2,4,3,5]\n",
    "print(reduce(lambda x,y:x+y,l))\n"
   ]
  },
  {
   "cell_type": "code",
   "execution_count": 32,
   "id": "366ab3eb-5df2-43d0-a16c-a3256f481d03",
   "metadata": {},
   "outputs": [
    {
     "ename": "NameError",
     "evalue": "name 'reduce' is not defined",
     "output_type": "error",
     "traceback": [
      "\u001b[0;31m---------------------------------------------------------------------------\u001b[0m",
      "\u001b[0;31mNameError\u001b[0m                                 Traceback (most recent call last)",
      "Cell \u001b[0;32mIn[32], line 2\u001b[0m\n\u001b[1;32m      1\u001b[0m \u001b[38;5;66;03m#2.Write a Python program that uses the `reduce()` function to find the product of all elements in a list.\u001b[39;00m\n\u001b[0;32m----> 2\u001b[0m a\u001b[38;5;241m=\u001b[39m\u001b[43mreduce\u001b[49m()\n",
      "\u001b[0;31mNameError\u001b[0m: name 'reduce' is not defined"
     ]
    }
   ],
   "source": [
    "#2.Write a Python program that uses the `reduce()` function to find the product of all elements in a list.\n",
    "a=reduce()"
   ]
  },
  {
   "cell_type": "code",
   "execution_count": 40,
   "id": "bf542a7e-8507-413d-81fb-9c7f0f0b6b95",
   "metadata": {},
   "outputs": [],
   "source": [
    "#3.Create a Python program that uses `reduce()` to find the maximum element in a list of numbers.\n"
   ]
  },
  {
   "cell_type": "code",
   "execution_count": 41,
   "id": "1471b76d-3c1f-4686-9280-df35b4e300a6",
   "metadata": {},
   "outputs": [],
   "source": [
    "#4.How can you use the `reduce()` function to concatenate a list of strings into a single string?"
   ]
  },
  {
   "cell_type": "code",
   "execution_count": 42,
   "id": "226c31c0-d0c4-434f-ac17-fb9a8fb95dad",
   "metadata": {},
   "outputs": [],
   "source": [
    "#5.Write a Python program that calculates the factorial of a number using the `reduce()` function.\n"
   ]
  },
  {
   "cell_type": "code",
   "execution_count": 43,
   "id": "4e524312-a421-40f3-a2f8-32d4651f6ca1",
   "metadata": {},
   "outputs": [],
   "source": [
    "#6.Create a Python program that uses `reduce()` to find the GCD (Greatest Common Divisor) of a list of numbers.\n"
   ]
  },
  {
   "cell_type": "code",
   "execution_count": 44,
   "id": "7fe92b8b-a787-4f63-aa81-959d95605876",
   "metadata": {},
   "outputs": [],
   "source": [
    "#7.Write a Python program that uses the `reduce()` function to find the sum of the digits of a given number.\n"
   ]
  },
  {
   "cell_type": "markdown",
   "id": "18f5b94c-5fd0-4721-b787-1848a6d39d54",
   "metadata": {},
   "source": [
    "# Filter :-\n"
   ]
  },
  {
   "cell_type": "code",
   "execution_count": 47,
   "id": "87ba7a8e-589c-462a-8e1d-2fc47ba9a114",
   "metadata": {},
   "outputs": [],
   "source": [
    "#1Explain the purpose of the `filter()` function in Python and provide an example of how it can be used to filter elements from an iterable.\n"
   ]
  },
  {
   "cell_type": "code",
   "execution_count": 46,
   "id": "366ff93a-2571-44db-8b70-6b6f1c5cd395",
   "metadata": {},
   "outputs": [],
   "source": [
    "#2.Write a Python program that uses the `filter()` function to select even numbers from a list of integers.\n"
   ]
  },
  {
   "cell_type": "code",
   "execution_count": 48,
   "id": "7ce82b40-6abb-4913-b908-271eeaf29d00",
   "metadata": {},
   "outputs": [],
   "source": [
    "#3.Create a Python program that uses the `filter()` function to select names that start with a specific letter from a list of strings.\n"
   ]
  },
  {
   "cell_type": "code",
   "execution_count": 49,
   "id": "9c43d648-00ab-421b-8e32-99f25a6de475",
   "metadata": {},
   "outputs": [],
   "source": [
    "#4.Write a Python program that uses the `filter()` function to select prime numbers from a list of integers.\n"
   ]
  },
  {
   "cell_type": "code",
   "execution_count": 50,
   "id": "e2e59c08-0398-45e2-8358-df12bbdd6078",
   "metadata": {},
   "outputs": [],
   "source": [
    "#5.How can you use the `filter()` function to remove None values from a list in Python?\n"
   ]
  },
  {
   "cell_type": "code",
   "execution_count": 51,
   "id": "62a95208-d0c1-4a79-93fd-5fb8390c9504",
   "metadata": {},
   "outputs": [],
   "source": [
    "#6.Create a Python program that uses `filter()` to select words longer than a certain length from a list of strings.\n"
   ]
  },
  {
   "cell_type": "code",
   "execution_count": 52,
   "id": "c53e6018-b36a-4514-869a-9b257a9a08c4",
   "metadata": {},
   "outputs": [],
   "source": [
    "#7.Write a Python program that uses the `filter()` function to select elements greater than a specified threshold from a list of values.\n"
   ]
  },
  {
   "cell_type": "markdown",
   "id": "30e4b6cd-d2c7-4ed9-bddf-49b9e1ac968e",
   "metadata": {},
   "source": [
    "# \n",
    "Recursion:-\n"
   ]
  },
  {
   "cell_type": "code",
   "execution_count": 53,
   "id": "51bb49b8-7293-48e3-b8ee-7554d4135a80",
   "metadata": {},
   "outputs": [],
   "source": [
    "#1.Explain the concept of recursion in Python. How does it differ from iteration?\n"
   ]
  },
  {
   "cell_type": "code",
   "execution_count": 54,
   "id": "71967d1a-e7e7-41d4-a69b-1e74461046e7",
   "metadata": {},
   "outputs": [],
   "source": [
    "#2.Write a Python program to calculate the factorial of a number using recursion."
   ]
  },
  {
   "cell_type": "code",
   "execution_count": 55,
   "id": "365816dc-7c96-4149-9460-eb89d2da7ef5",
   "metadata": {},
   "outputs": [],
   "source": [
    "# Create a recursive Python function to find the nth Fibonacci number.\n"
   ]
  },
  {
   "cell_type": "code",
   "execution_count": 56,
   "id": "0e76f289-760f-4316-9a0e-321aae414b04",
   "metadata": {},
   "outputs": [],
   "source": [
    "#4.Write a recursive Python function to calculate the sum of all elements in a list.\n"
   ]
  },
  {
   "cell_type": "code",
   "execution_count": 57,
   "id": "44dc29e8-06ed-4c40-9a45-b4b29b06754b",
   "metadata": {},
   "outputs": [],
   "source": [
    "#5.How can you prevent a recursive function from running indefinitely, causing a stack overflow error?\n"
   ]
  },
  {
   "cell_type": "code",
   "execution_count": 58,
   "id": "7ad616f0-0579-443d-9723-0e5fc61fbcb2",
   "metadata": {},
   "outputs": [],
   "source": [
    "#6.Create a recursive Python function to find the greatest common divisor (GCD) of two numbers using the Euclidean algorithm.\n"
   ]
  },
  {
   "cell_type": "code",
   "execution_count": 59,
   "id": "008247a0-400e-4317-a172-3fcbb213e1b2",
   "metadata": {},
   "outputs": [],
   "source": [
    "#7.Write a recursive Python function to reverse a string.\n"
   ]
  },
  {
   "cell_type": "code",
   "execution_count": 60,
   "id": "3bce8e29-adb8-4ca7-8902-3c07279e1704",
   "metadata": {},
   "outputs": [],
   "source": [
    "#8.Create a recursive Python function to calculate the power of a number (x^n).\n"
   ]
  },
  {
   "cell_type": "code",
   "execution_count": 61,
   "id": "52b7d4da-3bff-4d80-a03a-92c4c433c458",
   "metadata": {},
   "outputs": [],
   "source": [
    "#9.Write a recursive Python function to find all permutations of a given string.\n"
   ]
  },
  {
   "cell_type": "code",
   "execution_count": 62,
   "id": "257f75dc-a035-4fa6-b4ee-96d89bd23581",
   "metadata": {},
   "outputs": [],
   "source": [
    "#10.Write a recursive Python function to check if a string is a palindrome.\n"
   ]
  },
  {
   "cell_type": "code",
   "execution_count": 64,
   "id": "b30d8228-8783-411a-942d-1e297ee24d86",
   "metadata": {},
   "outputs": [],
   "source": [
    "#11.Create a recursive Python function to generate all possible combinations of a list of elements.\n"
   ]
  },
  {
   "cell_type": "markdown",
   "id": "e0313cea-92da-4b3e-90a6-98f4ce93be99",
   "metadata": {},
   "source": [
    "# Basics of Functions:\n"
   ]
  },
  {
   "cell_type": "code",
   "execution_count": 65,
   "id": "c183fd78-1b6d-4f4d-851e-de84aa03005a",
   "metadata": {},
   "outputs": [],
   "source": [
    "# 1.What is a function in Python, and why is it used?\n"
   ]
  },
  {
   "cell_type": "code",
   "execution_count": 66,
   "id": "6988581e-6ad1-43c2-8e49-2cef24b43dfe",
   "metadata": {},
   "outputs": [],
   "source": [
    "#2.How do you define a function in Python? Provide an example.\n"
   ]
  },
  {
   "cell_type": "code",
   "execution_count": 67,
   "id": "58f0f1e7-7c3c-4f6b-ab2f-4480aabfdcb6",
   "metadata": {},
   "outputs": [],
   "source": [
    "#3.Explain the difference between a function definition and a function call.\n"
   ]
  },
  {
   "cell_type": "code",
   "execution_count": 68,
   "id": "604f12ae-7f26-491c-ae78-85a9a202dc61",
   "metadata": {},
   "outputs": [],
   "source": [
    "#4.Write a Python program that defines a function to calculate the sum of two numbers and then calls the function.\n"
   ]
  },
  {
   "cell_type": "code",
   "execution_count": 69,
   "id": "68913d91-8a4c-4665-ad20-c7858ae30117",
   "metadata": {},
   "outputs": [],
   "source": [
    "#5.What is a function signature, and what information does it typically include?\n"
   ]
  },
  {
   "cell_type": "code",
   "execution_count": 70,
   "id": "3f6f8b41-36b9-4951-aacd-7d0bd773fcf2",
   "metadata": {},
   "outputs": [],
   "source": [
    "#6.Create a Python function that takes two arguments and returns their product.\n"
   ]
  },
  {
   "cell_type": "markdown",
   "id": "3b630ff6-ead4-4aab-9e1f-a27da10dd5e7",
   "metadata": {},
   "source": [
    "# Function Parameters and Arguments:\n"
   ]
  },
  {
   "cell_type": "code",
   "execution_count": 71,
   "id": "267602c9-7f3f-4869-8cd9-df75874de484",
   "metadata": {},
   "outputs": [],
   "source": [
    "# 1.Explain the concepts of formal parameters and actual arguments in Python functions.\n"
   ]
  },
  {
   "cell_type": "code",
   "execution_count": 72,
   "id": "9385cb4b-55c7-41b4-b20f-eecffab7c22e",
   "metadata": {},
   "outputs": [],
   "source": [
    "#2.Write a Python program that defines a function with default argument values.\n"
   ]
  },
  {
   "cell_type": "code",
   "execution_count": 73,
   "id": "b0b7c1ac-8c7a-45fd-b8bc-ec56feae5482",
   "metadata": {},
   "outputs": [],
   "source": [
    "# How do you use keyword arguments in Python function calls? Provide an example."
   ]
  },
  {
   "cell_type": "code",
   "execution_count": 74,
   "id": "6554fd88-0e97-4769-966e-1031d29cfe75",
   "metadata": {},
   "outputs": [],
   "source": [
    "#4.Create a Python function that accepts a variable number of arguments and calculates their sum.\n"
   ]
  },
  {
   "cell_type": "code",
   "execution_count": 75,
   "id": "05004d14-c600-449c-8287-6e447367c43b",
   "metadata": {},
   "outputs": [],
   "source": [
    "#5.What is the purpose of the `*args` and `**kwargs` syntax in function parameter lists?\n"
   ]
  },
  {
   "cell_type": "markdown",
   "id": "132ad60a-2369-4ca4-91ce-91bc2d3aa624",
   "metadata": {},
   "source": [
    "# Return Values and Scoping:\n"
   ]
  },
  {
   "cell_type": "code",
   "execution_count": 76,
   "id": "ff1ccfcb-d409-44bd-9f2c-e3b741551a5a",
   "metadata": {},
   "outputs": [],
   "source": [
    "#1.Describe the role of the `return` statement in Python functions and provide examples.\n"
   ]
  },
  {
   "cell_type": "code",
   "execution_count": 77,
   "id": "3c24332f-8932-4715-8802-f7f2779427e8",
   "metadata": {},
   "outputs": [],
   "source": [
    "#2.Explain the concept of variable scope in Python, including local and global variables.\n"
   ]
  },
  {
   "cell_type": "code",
   "execution_count": 78,
   "id": "a746c35f-eecd-44ac-bf74-731d5a5cf761",
   "metadata": {},
   "outputs": [],
   "source": [
    "#3.Write a Python program that demonstrates the use of global variables within functions."
   ]
  },
  {
   "cell_type": "code",
   "execution_count": 79,
   "id": "bf899353-a63e-4947-a28a-5d7062d2befa",
   "metadata": {},
   "outputs": [],
   "source": [
    "#4.Create a Python function that calculates the factorial of a number and returns it.\n"
   ]
  },
  {
   "cell_type": "code",
   "execution_count": 80,
   "id": "deb782ad-13d1-471b-84e4-876d0def4060",
   "metadata": {},
   "outputs": [],
   "source": [
    "#5.How can you access variables defined outside a function from within the function?\n",
    "\n"
   ]
  },
  {
   "cell_type": "markdown",
   "id": "bb446814-eb4b-49a4-b133-eded540eeecb",
   "metadata": {},
   "source": [
    "# Lambda Functions and Higher-Order Functions:\n"
   ]
  },
  {
   "cell_type": "code",
   "execution_count": 81,
   "id": "b804003d-a9e7-4329-bae8-ecaaf389712f",
   "metadata": {},
   "outputs": [],
   "source": [
    "# What are lambda functions in Python, and when are they typically used?"
   ]
  },
  {
   "cell_type": "code",
   "execution_count": 82,
   "id": "052b2114-e8ca-484a-b8c8-4e72a4c35174",
   "metadata": {},
   "outputs": [],
   "source": [
    "#2.Write a Python program that uses lambda functions to sort a list of tuples based on the second element.\n"
   ]
  },
  {
   "cell_type": "code",
   "execution_count": 83,
   "id": "e190e03f-66bb-4a51-9d07-dec52027c35e",
   "metadata": {},
   "outputs": [],
   "source": [
    "#3.Explain the concept of higher-order functions in Python, and provide an example.\n"
   ]
  },
  {
   "cell_type": "code",
   "execution_count": 84,
   "id": "8c6199fa-fb7c-49c0-818f-2e2581e58376",
   "metadata": {},
   "outputs": [],
   "source": [
    "#4.Create a Python function that takes a list of numbers and a function as arguments, applying the function to each element in the list.\n"
   ]
  },
  {
   "cell_type": "markdown",
   "id": "66d76769-639f-44f6-a4d6-ea7c1da04698",
   "metadata": {},
   "source": [
    "# Built-in Functions:\n"
   ]
  },
  {
   "cell_type": "code",
   "execution_count": 33,
   "id": "294ba600-3a80-4993-af0f-3632f6e2edfc",
   "metadata": {},
   "outputs": [
    {
     "name": "stdout",
     "output_type": "stream",
     "text": [
      "5 5 1\n"
     ]
    }
   ],
   "source": [
    "# Describe the role of built-in functions like `len()`, `max()`, and `min()` in Python.\n",
    "# Built in function mean already define those function  just like print,len,max\n",
    "l=[1,2,3,4,5]\n",
    "print(len(l),max(l),min(l))"
   ]
  },
  {
   "cell_type": "code",
   "execution_count": 34,
   "id": "01c86a1c-b542-475e-aeef-12f8a0b85eb5",
   "metadata": {},
   "outputs": [
    {
     "name": "stdout",
     "output_type": "stream",
     "text": [
      "[1, 4, 9, 16]\n"
     ]
    }
   ],
   "source": [
    "#2.Write a Python program that uses the `map()` function to apply a function to each element of a list.\n",
    "def aa(a):\n",
    "    return a**2\n",
    "print(list(map(aa,[1,2,3,4])))"
   ]
  },
  {
   "cell_type": "code",
   "execution_count": 88,
   "id": "537c6822-95af-47f5-8932-a475bbb56ea2",
   "metadata": {},
   "outputs": [],
   "source": [
    "#3.How does the `filter()` function work in Python, and when would you use it?\n",
    "# Filter function use for filter out the element by user define condition and throw the filter element\n"
   ]
  },
  {
   "cell_type": "code",
   "execution_count": 89,
   "id": "66ed98d2-bfa6-40e8-9135-4ea859feffdf",
   "metadata": {},
   "outputs": [],
   "source": [
    "#4.Create a Python program that uses the `reduce()` function to find the product of all elements in a list.\n",
    "#this functio are return only single value of the conditon"
   ]
  },
  {
   "cell_type": "markdown",
   "id": "2134971b-f254-4e9d-959d-5626f19d8ff5",
   "metadata": {},
   "source": [
    "# Function Documentation and Best Practices:"
   ]
  },
  {
   "cell_type": "code",
   "execution_count": 90,
   "id": "550ddbdb-fb50-49f6-8083-f125342a029f",
   "metadata": {},
   "outputs": [],
   "source": [
    "# 1.Explain the purpose of docstrings in Python functions and how to write them.\n"
   ]
  },
  {
   "cell_type": "code",
   "execution_count": 91,
   "id": "72aa83c3-abfc-4f98-8af0-4c20783d894a",
   "metadata": {},
   "outputs": [],
   "source": [
    "#2.Describe some best practices for naming functions and variables in Python, including naming conventions and guidelines.\n"
   ]
  },
  {
   "cell_type": "code",
   "execution_count": null,
   "id": "fd64b5fe-3c91-4986-b2b9-374a764ab5db",
   "metadata": {},
   "outputs": [],
   "source": []
  }
 ],
 "metadata": {
  "kernelspec": {
   "display_name": "Python 3 (ipykernel)",
   "language": "python",
   "name": "python3"
  },
  "language_info": {
   "codemirror_mode": {
    "name": "ipython",
    "version": 3
   },
   "file_extension": ".py",
   "mimetype": "text/x-python",
   "name": "python",
   "nbconvert_exporter": "python",
   "pygments_lexer": "ipython3",
   "version": "3.10.8"
  }
 },
 "nbformat": 4,
 "nbformat_minor": 5
}
